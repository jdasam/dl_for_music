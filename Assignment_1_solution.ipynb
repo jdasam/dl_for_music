{
 "cells": [
  {
   "cell_type": "markdown",
   "metadata": {},
   "source": [
    "# Coding Assignment 1: Music Auto-tagging Model\n",
    "- In this assignment, you will train your auto-tagging model using PyTorch\n",
    "- The dataset is from MagnaTagATune\n",
    "  - Randomly selected 8000 samples\n",
    "  - Each samples are resampled to 16000 Hz and saved as pt dict file"
   ]
  },
  {
   "cell_type": "code",
   "execution_count": null,
   "metadata": {},
   "outputs": [],
   "source": []
  },
  {
   "cell_type": "code",
   "execution_count": null,
   "metadata": {},
   "outputs": [],
   "source": [
    "DEV = 'cuda'"
   ]
  },
  {
   "cell_type": "markdown",
   "metadata": {},
   "source": [
    "## 0. Import Library"
   ]
  },
  {
   "cell_type": "code",
   "execution_count": 17,
   "metadata": {},
   "outputs": [],
   "source": [
    "import torch\n",
    "import torch.nn as nn\n",
    "import torchaudio\n",
    "from tqdm import tqdm\n",
    "import pandas as pd\n",
    "from pathlib import Path\n",
    "from torch.utils.data import DataLoader\n"
   ]
  },
  {
   "cell_type": "markdown",
   "metadata": {},
   "source": [
    "## 1. Prepare Dataset\n",
    "- You can use the pre-processed data"
   ]
  },
  {
   "cell_type": "code",
   "execution_count": 19,
   "metadata": {},
   "outputs": [
    {
     "name": "stderr",
     "output_type": "stream",
     "text": [
      "100%|██████████| 5000/5000 [00:03<00:00, 1304.65it/s]\n",
      "100%|██████████| 1000/1000 [00:06<00:00, 157.44it/s]\n",
      "100%|██████████| 2000/2000 [00:12<00:00, 159.49it/s]\n"
     ]
    }
   ],
   "source": [
    "class MTATDataset:\n",
    "  def __init__(self, dir, split='train'):\n",
    "    self.dir = dir\n",
    "    self.labels = pd.read_csv(dir / \"meta.csv\")\n",
    "    self.sr = 16000\n",
    "\n",
    "    if split==\"train\":\n",
    "      sub_dir_ids = ['0', '1', '2', '3', '4', '5', '6', '7', '8', '9', 'a', 'b', 'c']\n",
    "    elif split=='valid':\n",
    "      sub_dir_ids = ['d']\n",
    "    else: #test\n",
    "      sub_dir_ids = ['e', 'f', 'g']\n",
    "\n",
    "    is_in_set = [True if x[0] in sub_dir_ids else False for x in self.labels['mp3_path'].values.astype('str')]\n",
    "    self.labels = self.labels.iloc[is_in_set]\n",
    "\n",
    "    self.vocab = self.labels.columns.values[1:-1]\n",
    "    self.audios = self.load_pre_processed_data()\n",
    "    self.label_tensor = self.convert_label_to_tensor()\n",
    "\n",
    "  def load_pre_processed_data(self):\n",
    "    audios = [torch.load( (self.dir / self.labels.iloc[idx]['mp3_path']).with_suffix('.pt'))['audio'][0] for idx in tqdm(range(len(self.labels)))]\n",
    "    return audios\n",
    "\n",
    "  def convert_label_to_tensor(self):\n",
    "    return torch.LongTensor(self.labels.values[:, 1:-1].astype('bool'))\n",
    "\n",
    "  def __getitem__(self, idx):\n",
    "    audio = self.audios[idx]\n",
    "    tag = self.label_tensor[idx]\n",
    "    return audio, tag\n",
    "\n",
    "  def __len__(self):\n",
    "    return len(self.labels)\n",
    "\n",
    "data_dir = Path('../MTAT_SMALL')\n",
    "trainset = MTATDataset(data_dir)\n",
    "validset = MTATDataset(data_dir, split='valid')\n",
    "testset = MTATDataset(data_dir, split='test')"
   ]
  },
  {
   "cell_type": "code",
   "execution_count": 18,
   "metadata": {},
   "outputs": [
    {
     "ename": "NameError",
     "evalue": "name 'validset' is not defined",
     "output_type": "error",
     "traceback": [
      "\u001b[0;31m---------------------------------------------------------------------------\u001b[0m",
      "\u001b[0;31mNameError\u001b[0m                                 Traceback (most recent call last)",
      "\u001b[0;32m/tmp/ipykernel_11186/3515375850.py\u001b[0m in \u001b[0;36m<module>\u001b[0;34m\u001b[0m\n\u001b[1;32m      1\u001b[0m \u001b[0mtrain_loader\u001b[0m \u001b[0;34m=\u001b[0m \u001b[0mDataLoader\u001b[0m\u001b[0;34m(\u001b[0m\u001b[0mtrainset\u001b[0m\u001b[0;34m,\u001b[0m \u001b[0mbatch_size\u001b[0m\u001b[0;34m=\u001b[0m\u001b[0;36m128\u001b[0m\u001b[0;34m,\u001b[0m \u001b[0mshuffle\u001b[0m\u001b[0;34m=\u001b[0m\u001b[0;32mTrue\u001b[0m\u001b[0;34m)\u001b[0m\u001b[0;34m\u001b[0m\u001b[0;34m\u001b[0m\u001b[0m\n\u001b[0;32m----> 2\u001b[0;31m \u001b[0mvalid_loader\u001b[0m \u001b[0;34m=\u001b[0m \u001b[0mDataLoader\u001b[0m\u001b[0;34m(\u001b[0m\u001b[0mvalidset\u001b[0m\u001b[0;34m,\u001b[0m \u001b[0mbatch_size\u001b[0m\u001b[0;34m=\u001b[0m\u001b[0;36m256\u001b[0m\u001b[0;34m,\u001b[0m \u001b[0mshuffle\u001b[0m\u001b[0;34m=\u001b[0m\u001b[0;32mFalse\u001b[0m\u001b[0;34m)\u001b[0m\u001b[0;34m\u001b[0m\u001b[0;34m\u001b[0m\u001b[0m\n\u001b[0m\u001b[1;32m      3\u001b[0m \u001b[0mtest_loader\u001b[0m \u001b[0;34m=\u001b[0m \u001b[0mDataLoader\u001b[0m\u001b[0;34m(\u001b[0m\u001b[0mtestset\u001b[0m\u001b[0;34m,\u001b[0m\u001b[0mbatch_size\u001b[0m\u001b[0;34m=\u001b[0m\u001b[0;36m256\u001b[0m\u001b[0;34m,\u001b[0m \u001b[0mshuffle\u001b[0m\u001b[0;34m=\u001b[0m\u001b[0;32mFalse\u001b[0m\u001b[0;34m)\u001b[0m\u001b[0;34m\u001b[0m\u001b[0;34m\u001b[0m\u001b[0m\n",
      "\u001b[0;31mNameError\u001b[0m: name 'validset' is not defined"
     ]
    }
   ],
   "source": [
    "train_loader = DataLoader(trainset, batch_size=128, shuffle=True)\n",
    "valid_loader = DataLoader(validset, batch_size=256, shuffle=False)\n",
    "test_loader = DataLoader(testset,batch_size=256, shuffle=False)"
   ]
  },
  {
   "cell_type": "markdown",
   "metadata": {},
   "source": [
    "## 2. Define Neural Network\n",
    "- Define the neural network"
   ]
  },
  {
   "cell_type": "code",
   "execution_count": null,
   "metadata": {},
   "outputs": [],
   "source": [
    "class SpecModel(nn.Module):\n",
    "  def __init__(self, sr, n_fft, hop_length, n_mels):\n",
    "    super().__init__()\n",
    "    self.mel_converter = torchaudio.transforms.MelSpectrogram(sample_rate=sr, n_fft=n_fft, hop_length=hop_length, n_mels=n_mels)\n",
    "    self.db_converter = torchaudio.transforms.AmplitudeToDB()\n",
    "  \n",
    "  def forward(self, x):\n",
    "    mel_spec = self.mel_converter(x)\n",
    "    return self.db_converter(mel_spec)\n",
    "\n",
    "class AudioModel(nn.Module):\n",
    "  def __init__(self, sr, n_fft, hop_length, n_mels, hidden_size, num_output):\n",
    "    super().__init__()\n",
    "    self.spec_converter = SpecModel(sr, n_fft, hop_length, n_mels)\n",
    "    self.conv_layer = nn.Sequential(\n",
    "      nn.Conv1d(n_mels, out_channels=hidden_size, kernel_size=3),\n",
    "      nn.MaxPool1d(3),\n",
    "      nn.ReLU(),\n",
    "    )\n",
    "    self.final_layer = nn.Linear(hidden_size, num_output)\n",
    "\n",
    "  def get_spec(self, x):\n",
    "    '''\n",
    "    Get result of self.spec_converter\n",
    "    x (torch.Tensor): audio samples (num_batch_size X num_audio_samples)\n",
    "    '''\n",
    "    return self.spec_converter(x)\n",
    "  \n",
    "  def forward(self, x):\n",
    "    spec = self.get_spec(x) # num_batch X num_mel_bins X num_time_bins\n",
    "    out = self.conv_layer(spec)\n",
    "    out = torch.max(out, dim=-1)[0] # select [0] because torch.max outputs tuple of (value, index)\n",
    "    out = self.final_layer(out)\n",
    "    out = torch.sigmoid(out)\n",
    "    return out\n",
    "\n",
    "class YourModel(AudioModel):\n",
    "  def __init__(self, sr, n_fft, hop_length, n_mels, hidden_size, num_output):\n",
    "    super().__init__(sr, n_fft, hop_length, n_mels, hidden_size, num_output)\n",
    "    self.conv_layer"
   ]
  },
  {
   "cell_type": "markdown",
   "metadata": {},
   "source": [
    "## 3. Train the Network\n"
   ]
  },
  {
   "cell_type": "code",
   "execution_count": null,
   "metadata": {},
   "outputs": [],
   "source": [
    "def train_model(model, train_loader, valid_loader, optimizer, num_epochs, loss_func, device='cuda'):\n",
    "  loss_records =[] \n",
    "  valid_acc_records = []\n",
    "  model.train() # Set model to train mode\n",
    "  for epoch in tqdm(range(num_epochs)):\n",
    "    for batch in train_loader:\n",
    "      optimizer.zero_grad() # Rest gradient of every parameters in optimizer (every parameters in the model)\n",
    "      audio, label = batch\n",
    "      audio = audio.to(device)\n",
    "      label = label.to(device)\n",
    "      pred = model(audio)\n",
    "      loss = loss_func(pred, label.float())\n",
    "      loss.backward() # Run backpropagation\n",
    "      optimizer.step() # Update parameters\n",
    "      loss_records.append(loss.item())\n",
    "    valid_acc = validate_model(model, valid_loader, device)\n",
    "    valid_acc_records.append(valid_acc.item())\n",
    "  return {\"loss\": loss_records, \"valid_acc\": valid_acc_records}\n",
    "\n",
    "def validate_model(model, valid_loader, device):\n",
    "  valid_acc = 0\n",
    "  model.eval()\n",
    "  with torch.no_grad():\n",
    "    for batch in valid_loader:\n",
    "      audio, label = batch\n",
    "      pred = model(audio.to(device))\n",
    "      auc = get_roc_auc(pred, label.to(device))\n",
    "      valid_acc += auc * len(label)\n",
    "  model.train()\n",
    "  return valid_acc / len(valid_loader.dataset)\n",
    "\n",
    "def get_tpr_fnr(pred, target, threshold=0.5):\n",
    "  thresh_pred = pred> threshold\n",
    "  p = torch.sum(target == 1)\n",
    "  tp = torch.sum((thresh_pred==1) * (target==1))\n",
    "  n = torch.sum(target == 0)\n",
    "  fn = torch.sum((thresh_pred==1) * (target==0))\n",
    "  return tp/p, fn/n\n",
    "\n",
    "def get_roc_auc(pred, label, num_grid=500):\n",
    "  auc = 0\n",
    "  prev_fpr = 0\n",
    "  for thresh in reversed(torch.linspace(0,1,num_grid)):\n",
    "    tpr, fpr = get_tpr_fnr(pred, label, threshold=thresh)\n",
    "    auc += tpr * (fpr-prev_fpr)\n",
    "    prev_fpr = fpr\n",
    "  return auc"
   ]
  },
  {
   "cell_type": "code",
   "execution_count": null,
   "metadata": {},
   "outputs": [],
   "source": [
    "model = AudioModel(sr=16000, n_fft=1024, hop_length=512, n_mels=48, num_output=50, hidden_size=32)\n",
    "optimizer = torch.optim.Adam(model.parameters(), lr=1e-3)\n",
    "model = model.to('cuda')\n",
    "loss_func = torch.nn.BCELoss()\n",
    "train_record = train_model(model, train_loader, valid_loader, optimizer, num_epochs=50, loss_func=loss_func, device=DEV)"
   ]
  },
  {
   "cell_type": "markdown",
   "metadata": {},
   "source": [
    "### Problem 2. Complete Binary Cross Entropy Function \n"
   ]
  },
  {
   "cell_type": "code",
   "execution_count": null,
   "metadata": {},
   "outputs": [],
   "source": [
    "def get_binary_cross_entropy(pred:torch.Tensor, target:torch.Tensor):\n",
    "  '''\n",
    "  pred (torch.Tensor): predicted value of a neural network model for a given input \n",
    "  target (torch.Tensor): ground-truth label for a given input, given in multi-hot encoding\n",
    "\n",
    "  output (torch.Tensor): Loss value\n",
    "  '''\n",
    "  # TODO: Complete this function\n",
    "  return \n",
    "\n",
    "batch = next(iter(valid_loader))\n",
    "pred = model(batch[0])"
   ]
  },
  {
   "cell_type": "markdown",
   "metadata": {},
   "source": [
    "### Problem 3. Complete Precision-Recall Area Under Curve Function"
   ]
  },
  {
   "cell_type": "code",
   "execution_count": 20,
   "metadata": {},
   "outputs": [],
   "source": [
    "def get_precision_recall_auc(pred:torch.Tensor, target:torch.Tensor, num_grid=500):\n",
    "  '''\n",
    "  pred (torch.Tensor): predicted value of a neural network model for a given input \n",
    "  target (torch.Tensor): ground-truth label for a given input, given in multi-hot encoding\n",
    "\n",
    "  output (torch.Tensor): Area Under Curve value for Precision-Recall Curve\n",
    "  '''\n",
    "  \n",
    "  return"
   ]
  },
  {
   "cell_type": "markdown",
   "metadata": {},
   "source": [
    "## Problem 1"
   ]
  },
  {
   "cell_type": "code",
   "execution_count": 1,
   "metadata": {},
   "outputs": [],
   "source": []
  },
  {
   "cell_type": "code",
   "execution_count": null,
   "metadata": {},
   "outputs": [],
   "source": []
  },
  {
   "cell_type": "markdown",
   "metadata": {},
   "source": [
    "## 4. Test the Model"
   ]
  },
  {
   "cell_type": "markdown",
   "metadata": {},
   "source": []
  }
 ],
 "metadata": {
  "interpreter": {
   "hash": "31f2aee4e71d21fbe5cf8b01ff0e069b9275f58929596ceb00d14d90e3e16cd6"
  },
  "kernelspec": {
   "display_name": "Python 3.8.10 64-bit",
   "name": "python3"
  },
  "language_info": {
   "codemirror_mode": {
    "name": "ipython",
    "version": 3
   },
   "file_extension": ".py",
   "mimetype": "text/x-python",
   "name": "python",
   "nbconvert_exporter": "python",
   "pygments_lexer": "ipython3",
   "version": "3.8.10"
  },
  "orig_nbformat": 4
 },
 "nbformat": 4,
 "nbformat_minor": 2
}
