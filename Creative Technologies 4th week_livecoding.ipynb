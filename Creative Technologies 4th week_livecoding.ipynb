{
 "cells": [
  {
   "cell_type": "markdown",
   "metadata": {
    "id": "vGXFAtvkv6ud"
   },
   "source": [
    "# 4th Week: Tutorial for Deep Learning with Audio\n",
    "- Pitch classification\n",
    "- Pitch regression\n",
    "- Timbre classification\n"
   ]
  },
  {
   "cell_type": "code",
   "execution_count": 1,
   "metadata": {
    "executionInfo": {
     "elapsed": 4045,
     "status": "ok",
     "timestamp": 1632719634963,
     "user": {
      "displayName": "Dasaem Jeong",
      "photoUrl": "https://lh3.googleusercontent.com/a/default-user=s64",
      "userId": "01523425832319295790"
     },
     "user_tz": -540
    },
    "id": "QYo2E5Vxv59N"
   },
   "outputs": [],
   "source": [
    "import torch\n",
    "import torch.nn as nn\n",
    "from math import pi\n",
    "import IPython.display as ipd\n",
    "import random\n",
    "import matplotlib.pyplot as plt"
   ]
  },
  {
   "cell_type": "code",
   "execution_count": null,
   "metadata": {
    "colab": {
     "base_uri": "https://localhost:8080/",
     "height": 36
    },
    "executionInfo": {
     "elapsed": 4,
     "status": "ok",
     "timestamp": 1632699321153,
     "user": {
      "displayName": "Dasaem Jeong",
      "photoUrl": "https://lh3.googleusercontent.com/a/default-user=s64",
      "userId": "01523425832319295790"
     },
     "user_tz": -540
    },
    "id": "aAqKBvaN5LQ7",
    "outputId": "3278ce13-3abf-49fe-ebf3-a84f6413a1fc"
   },
   "outputs": [
    {
     "data": {
      "application/vnd.google.colaboratory.intrinsic+json": {
       "type": "string"
      },
      "text/plain": [
       "'1.9.0+cu102'"
      ]
     },
     "execution_count": 25,
     "metadata": {},
     "output_type": "execute_result"
    }
   ],
   "source": [
    "torch.__version__"
   ]
  },
  {
   "cell_type": "markdown",
   "metadata": {
    "id": "GwDo8t552gm_"
   },
   "source": [
    "## 1. Make audio dataset\n",
    "- We will use `torch` instead of `numpy` \n",
    "- Generate audio with \n",
    "  - Random frequency\n",
    "  - Random number of harmonics\n",
    "  - Random amplitude of harmonics\n",
    "  - Plus white noise with random amplitude"
   ]
  },
  {
   "cell_type": "code",
   "execution_count": 2,
   "metadata": {
    "executionInfo": {
     "elapsed": 2202,
     "status": "ok",
     "timestamp": 1632719792045,
     "user": {
      "displayName": "Dasaem Jeong",
      "photoUrl": "https://lh3.googleusercontent.com/a/default-user=s64",
      "userId": "01523425832319295790"
     },
     "user_tz": -540
    },
    "id": "t32x2X0czPV2"
   },
   "outputs": [],
   "source": [
    "SR = 16000\n",
    "def make_sine_wave(freq, amp, dur, sr):\n",
    "  num_samples = dur * sr\n",
    "  time_frame = torch.arange(num_samples)\n",
    "  time_frame_sec = time_frame / sr\n",
    "  return amp * torch.sin(2 * pi * freq * time_frame_sec)\n",
    "\n",
    "def make_sine_wave_with_random_harmonics(freq, amp, dur, sr, num_harm=7):\n",
    "  fund = make_sine_wave(freq,amp,dur,sr)\n",
    "  for i in range(2, num_harm):\n",
    "    fund += make_sine_wave(freq * i, amp*random.random()/i**(1+random.random()), dur, sr)\n",
    "  return fund\n",
    "\n",
    "def make_white_noise(amp, dur, sr):\n",
    "  return torch.randn(dur*sr)*amp\n",
    "\n",
    "def make_pitch_class_dataset(n_samples_per_pitch):\n",
    "  pitches = [440., 466.2, 493.8, 523.3, 554.4, 587.3,\n",
    "            622.3, 659.3, 698.5, 740., 784.0, 830.6]\n",
    "  pitch_name = ['A', 'Bb', 'B', 'C', 'Db', 'D', 'Eb' ,'E', 'F', 'Gb', 'G', 'Ab']\n",
    "  dataset = [make_sine_wave_with_random_harmonics(pitch, 0.3+random.random()/2, dur=3, SR, num_harm=3)+make_white_noise(random.random()*0.1, 3, SR) \n",
    "              for pitch in pitches for i in range(n_samples_per_pitch)]\n",
    "  pitches = [i for i in range(len(pitch_name)) for j in range(n_samples_per_pitch)]\n",
    "  dataset = torch.stack(dataset)\n",
    "  pitches = torch.LongTensor(pitches)\n",
    "  return dataset, pitches\n",
    "\n",
    "\n",
    "def make_random_pitch_dataset(n_samples, pitch_range=(220,880)):\n",
    "  min_pitch, max_pitch = pitch_range\n",
    "  pitches = [random.randint(min_pitch,max_pitch) for i in range(n_samples)]\n",
    "  dataset = [make_sine_wave_with_random_harmonics(pitch,0.3,3,SR)+make_white_noise(random.random()*0.2, 3, SR) for pitch in pitches]\n",
    "  dataset = torch.stack(dataset)\n",
    "  pitches = torch.Tensor(pitches)\n",
    "  return dataset, pitches\n",
    "\n",
    "dataset, pitches = make_pitch_class_dataset(100)\n"
   ]
  },
  {
   "cell_type": "markdown",
   "metadata": {
    "id": "i7ycj_qk4SHp"
   },
   "source": [
    "### torch.Tensor\n",
    "torch의 기본적인 데이터 형식\n",
    "\n",
    "- gradient를 자동으로 계산"
   ]
  },
  {
   "cell_type": "code",
   "execution_count": 52,
   "metadata": {
    "colab": {
     "base_uri": "https://localhost:8080/",
     "height": 186
    },
    "executionInfo": {
     "elapsed": 304,
     "status": "error",
     "timestamp": 1632723351389,
     "user": {
      "displayName": "Dasaem Jeong",
      "photoUrl": "https://lh3.googleusercontent.com/a/default-user=s64",
      "userId": "01523425832319295790"
     },
     "user_tz": -540
    },
    "id": "JWSCDcbA4Q7p",
    "outputId": "db52ed28-adc0-4755-8df5-6b17a3564929"
   },
   "outputs": [
    {
     "ename": "ValueError",
     "evalue": "ignored",
     "output_type": "error",
     "traceback": [
      "\u001b[0;31m---------------------------------------------------------------------------\u001b[0m",
      "\u001b[0;31mValueError\u001b[0m                                Traceback (most recent call last)",
      "\u001b[0;32m<ipython-input-52-3319ffea1211>\u001b[0m in \u001b[0;36m<module>\u001b[0;34m()\u001b[0m\n\u001b[1;32m      1\u001b[0m \u001b[0malist\u001b[0m \u001b[0;34m=\u001b[0m \u001b[0;34m[\u001b[0m\u001b[0;34m[\u001b[0m\u001b[0;36m1\u001b[0m\u001b[0;34m,\u001b[0m\u001b[0;36m2\u001b[0m\u001b[0;34m,\u001b[0m\u001b[0;36m3\u001b[0m\u001b[0;34m]\u001b[0m\u001b[0;34m,\u001b[0m\u001b[0;34m[\u001b[0m\u001b[0;36m4\u001b[0m\u001b[0;34m,\u001b[0m\u001b[0;36m5\u001b[0m\u001b[0;34m,\u001b[0m\u001b[0;36m6\u001b[0m\u001b[0;34m]\u001b[0m\u001b[0;34m,\u001b[0m\u001b[0;34m[\u001b[0m\u001b[0;36m7\u001b[0m\u001b[0;34m,\u001b[0m\u001b[0;36m8\u001b[0m\u001b[0;34m,\u001b[0m\u001b[0;36m9\u001b[0m\u001b[0;34m]\u001b[0m\u001b[0;34m,\u001b[0m\u001b[0;34m[\u001b[0m\u001b[0;36m10\u001b[0m\u001b[0;34m,\u001b[0m\u001b[0;36m11\u001b[0m\u001b[0;34m]\u001b[0m\u001b[0;34m]\u001b[0m\u001b[0;34m\u001b[0m\u001b[0;34m\u001b[0m\u001b[0m\n\u001b[0;32m----> 2\u001b[0;31m \u001b[0matensor\u001b[0m \u001b[0;34m=\u001b[0m \u001b[0mtorch\u001b[0m\u001b[0;34m.\u001b[0m\u001b[0mTensor\u001b[0m\u001b[0;34m(\u001b[0m\u001b[0malist\u001b[0m\u001b[0;34m)\u001b[0m\u001b[0;34m\u001b[0m\u001b[0;34m\u001b[0m\u001b[0m\n\u001b[0m",
      "\u001b[0;31mValueError\u001b[0m: expected sequence of length 3 at dim 1 (got 2)"
     ]
    }
   ],
   "source": [
    "alist = [[1,2,3],[4,5,6],[7,8,9]]\n",
    "atensor = torch.Tensor(alist)\n"
   ]
  },
  {
   "cell_type": "markdown",
   "metadata": {
    "id": "nW_RqbuN4xeH"
   },
   "source": [
    "### torch.Tensor vs For loop"
   ]
  },
  {
   "cell_type": "code",
   "execution_count": null,
   "metadata": {
    "id": "-3aCVpow4xCQ"
   },
   "outputs": [],
   "source": []
  },
  {
   "cell_type": "code",
   "execution_count": 4,
   "metadata": {
    "colab": {
     "base_uri": "https://localhost:8080/"
    },
    "executionInfo": {
     "elapsed": 299,
     "status": "ok",
     "timestamp": 1632719869254,
     "user": {
      "displayName": "Dasaem Jeong",
      "photoUrl": "https://lh3.googleusercontent.com/a/default-user=s64",
      "userId": "01523425832319295790"
     },
     "user_tz": -540
    },
    "id": "EToUrVdsr9CH",
    "outputId": "8891ba64-e6d8-49fe-c719-12f25720a343"
   },
   "outputs": [
    {
     "data": {
      "text/plain": [
       "torch.Size([1200, 48000])"
      ]
     },
     "execution_count": 4,
     "metadata": {},
     "output_type": "execute_result"
    }
   ],
   "source": [
    "dataset.shape"
   ]
  },
  {
   "cell_type": "markdown",
   "metadata": {
    "id": "nGXcJQ6uOw1-"
   },
   "source": [
    "### 1-1 Shuffle Dataset and Label in random order"
   ]
  },
  {
   "cell_type": "code",
   "execution_count": null,
   "metadata": {
    "id": "8pSWSohVOiol"
   },
   "outputs": [],
   "source": []
  },
  {
   "cell_type": "markdown",
   "metadata": {
    "id": "O9eGmPWo1kgj"
   },
   "source": [
    "### 1.1 Monitor dataset\n",
    "1. Select random samples from dataset\n",
    "2. Play the audio samples of the selected sample"
   ]
  },
  {
   "cell_type": "code",
   "execution_count": 16,
   "metadata": {
    "colab": {
     "base_uri": "https://localhost:8080/",
     "height": 93
    },
    "executionInfo": {
     "elapsed": 794,
     "status": "ok",
     "timestamp": 1632720402223,
     "user": {
      "displayName": "Dasaem Jeong",
      "photoUrl": "https://lh3.googleusercontent.com/a/default-user=s64",
      "userId": "01523425832319295790"
     },
     "user_tz": -540
    },
    "id": "rntE8ziZsVtP",
    "outputId": "0d8da9e7-3ea7-472d-9b4a-901a27b70dce"
   },
   "outputs": [
    {
     "data": {
      "text/html": [
       "\n",
       "                <audio controls=\"controls\" >\n",
       "                    <source src=\"data:audio/wav;base64,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\" type=\"audio/wav\" />\n",
       "                    Your browser does not support the audio element.\n",
       "                </audio>\n",
       "              "
      ],
      "text/plain": [
       "<IPython.lib.display.Audio object>"
      ]
     },
     "metadata": {},
     "output_type": "display_data"
    },
    {
     "name": "stdout",
     "output_type": "stream",
     "text": [
      "Note pitch is 9\n"
     ]
    }
   ],
   "source": [
    "data_idx = random.randint(0, len(dataset)-1) #start, end  \n",
    "data_sample = dataset[data_idx, :] \n",
    "ipd.display(ipd.Audio(data_sample, rate=SR))\n",
    "print(f'Note pitch is {pitches[data_idx]}')"
   ]
  },
  {
   "cell_type": "code",
   "execution_count": 15,
   "metadata": {
    "colab": {
     "base_uri": "https://localhost:8080/",
     "height": 283
    },
    "executionInfo": {
     "elapsed": 458,
     "status": "ok",
     "timestamp": 1632720338904,
     "user": {
      "displayName": "Dasaem Jeong",
      "photoUrl": "https://lh3.googleusercontent.com/a/default-user=s64",
      "userId": "01523425832319295790"
     },
     "user_tz": -540
    },
    "id": "_KlNwL9OtrWx",
    "outputId": "8d506440-5de8-44dd-b6ab-4bb2eb277781"
   },
   "outputs": [
    {
     "data": {
      "text/plain": [
       "[<matplotlib.lines.Line2D at 0x7f37d9b99410>]"
      ]
     },
     "execution_count": 15,
     "metadata": {},
     "output_type": "execute_result"
    },
    {
     "data": {
      "image/png": "[encoded data removed]",
      "text/plain": [
       "<Figure size 432x288 with 1 Axes>"
      ]
     },
     "metadata": {
      "needs_background": "light"
     },
     "output_type": "display_data"
    }
   ],
   "source": [
    "# plot white noise\n",
    "noise = make_white_noise(amp=0.3, dur=3, sr=SR)\n",
    "plt.plot(noise[:500])"
   ]
  },
  {
   "cell_type": "code",
   "execution_count": 21,
   "metadata": {
    "colab": {
     "base_uri": "https://localhost:8080/",
     "height": 286
    },
    "executionInfo": {
     "elapsed": 370,
     "status": "ok",
     "timestamp": 1632720618903,
     "user": {
      "displayName": "Dasaem Jeong",
      "photoUrl": "https://lh3.googleusercontent.com/a/default-user=s64",
      "userId": "01523425832319295790"
     },
     "user_tz": -540
    },
    "id": "WdAjJSAluII-",
    "outputId": "5a2ac8b6-f5a9-4cd0-f139-4236150cc1aa"
   },
   "outputs": [
    {
     "data": {
      "text/plain": [
       "[<matplotlib.lines.Line2D at 0x7f37d9abd9d0>]"
      ]
     },
     "execution_count": 21,
     "metadata": {},
     "output_type": "execute_result"
    },
    {
     "data": {
      "image/png": "[encoded data removed]",
      "text/plain": [
       "<Figure size 432x288 with 1 Axes>"
      ]
     },
     "metadata": {
      "needs_background": "light"
     },
     "output_type": "display_data"
    }
   ],
   "source": [
    "# 100번째 데이터의 첫 1초\n",
    "# 첫1초가 몇 오디오 샘플인지: sample_rate * second \n",
    "\n",
    "plt.plot(dataset[100, SR:48000])"
   ]
  },
  {
   "cell_type": "markdown",
   "metadata": {
    "id": "yLroUnCns6vt"
   },
   "source": [
    "피치 클래스는 클래스의 index로 표현."
   ]
  },
  {
   "cell_type": "code",
   "execution_count": 48,
   "metadata": {
    "colab": {
     "base_uri": "https://localhost:8080/"
    },
    "executionInfo": {
     "elapsed": 321,
     "status": "ok",
     "timestamp": 1632721922931,
     "user": {
      "displayName": "Dasaem Jeong",
      "photoUrl": "https://lh3.googleusercontent.com/a/default-user=s64",
      "userId": "01523425832319295790"
     },
     "user_tz": -540
    },
    "id": "dqh1Z3Hhs32h",
    "outputId": "76191cbf-3f03-4d08-a04f-445711a7e9cb"
   },
   "outputs": [
    {
     "data": {
      "text/plain": [
       "tensor([0, 1, 2, 3, 4])"
      ]
     },
     "execution_count": 48,
     "metadata": {},
     "output_type": "execute_result"
    }
   ],
   "source": [
    "torch.LongTensor([0,1,2,3,4])"
   ]
  },
  {
   "cell_type": "markdown",
   "metadata": {
    "id": "IZZQDHmr2wfh"
   },
   "source": [
    "## 1.2 Make Spectrogram\n",
    "- 오디오 샘플을 처리하는 방법을 신경망이 학습하기 위해서는 데이터가 너무 많이 필요함\n",
    "- 오디오 데이터는 STFT를 통해 Spectrogram으로 변환하는 것이 일반적\n",
    "\n",
    "- Spectrogram\n",
    "\n",
    "- MelSpectrogram"
   ]
  },
  {
   "cell_type": "code",
   "execution_count": 22,
   "metadata": {
    "colab": {
     "base_uri": "https://localhost:8080/"
    },
    "executionInfo": {
     "elapsed": 4961,
     "status": "ok",
     "timestamp": 1632720824007,
     "user": {
      "displayName": "Dasaem Jeong",
      "photoUrl": "https://lh3.googleusercontent.com/a/default-user=s64",
      "userId": "01523425832319295790"
     },
     "user_tz": -540
    },
    "id": "gHCeqxGH2wHB",
    "outputId": "381afb07-2712-4f73-fe42-f75523b1c7ce"
   },
   "outputs": [
    {
     "name": "stdout",
     "output_type": "stream",
     "text": [
      "Collecting torchaudio==0.9.0\n",
      "  Downloading torchaudio-0.9.0-cp37-cp37m-manylinux1_x86_64.whl (1.9 MB)\n",
      "\u001b[K     |████████████████████████████████| 1.9 MB 5.4 MB/s \n",
      "\u001b[?25hRequirement already satisfied: torch==1.9.0 in /usr/local/lib/python3.7/dist-packages (from torchaudio==0.9.0) (1.9.0+cu102)\n",
      "Requirement already satisfied: typing-extensions in /usr/local/lib/python3.7/dist-packages (from torch==1.9.0->torchaudio==0.9.0) (3.7.4.3)\n",
      "Installing collected packages: torchaudio\n",
      "Successfully installed torchaudio-0.9.0\n"
     ]
    }
   ],
   "source": [
    "# install torchaudio\n",
    "!pip install torchaudio==0.9.0\n",
    "import torchaudio"
   ]
  },
  {
   "cell_type": "code",
   "execution_count": 53,
   "metadata": {
    "executionInfo": {
     "elapsed": 3463,
     "status": "ok",
     "timestamp": 1632723522910,
     "user": {
      "displayName": "Dasaem Jeong",
      "photoUrl": "https://lh3.googleusercontent.com/a/default-user=s64",
      "userId": "01523425832319295790"
     },
     "user_tz": -540
    },
    "id": "3ddOO646vzR4"
   },
   "outputs": [],
   "source": [
    "spec_converter_a = torchaudio.transforms.MelSpectrogram(sample_rate=SR, n_fft=4192, f_min=200, f_max=3200, n_mels=48)\n",
    "# spec_converter_b = torchaudio.transforms.MelSpectrogram(sample_rate=SR, n_fft=4192, f_min=200, f_max=3200, n_mels=96)\n",
    "\n",
    "spec_a = spec_converter_a(dataset)\n",
    "# spec_b = spec_converter_b(dataset)\n",
    "\n"
   ]
  },
  {
   "cell_type": "code",
   "execution_count": 54,
   "metadata": {
    "executionInfo": {
     "elapsed": 325,
     "status": "ok",
     "timestamp": 1632723524923,
     "user": {
      "displayName": "Dasaem Jeong",
      "photoUrl": "https://lh3.googleusercontent.com/a/default-user=s64",
      "userId": "01523425832319295790"
     },
     "user_tz": -540
    },
    "id": "m_0ZhgpLyFQ4"
   },
   "outputs": [],
   "source": [
    "amp_to_db_converter = torchaudio.transforms.AmplitudeToDB()\n",
    "spec_a = amp_to_db_converter(spec_a)\n",
    "# spec_b = amp_to_db_converter(spec_b)"
   ]
  },
  {
   "cell_type": "code",
   "execution_count": 25,
   "metadata": {
    "colab": {
     "base_uri": "https://localhost:8080/"
    },
    "executionInfo": {
     "elapsed": 285,
     "status": "ok",
     "timestamp": 1632721147756,
     "user": {
      "displayName": "Dasaem Jeong",
      "photoUrl": "https://lh3.googleusercontent.com/a/default-user=s64",
      "userId": "01523425832319295790"
     },
     "user_tz": -540
    },
    "id": "9LlTlv-Ow4G7",
    "outputId": "f541bddb-f2a8-43cc-d93e-8114bbe2e998"
   },
   "outputs": [
    {
     "data": {
      "text/plain": [
       "torch.Size([1200, 48, 23])"
      ]
     },
     "execution_count": 25,
     "metadata": {},
     "output_type": "execute_result"
    }
   ],
   "source": [
    "spec_a.shape"
   ]
  },
  {
   "cell_type": "markdown",
   "metadata": {
    "id": "eeW5sVy7HsNE"
   },
   "source": [
    "#### Plot Spectrogram\n",
    "- Plot 2D spectrogram with `plt.imshow`\n",
    "  - add `origin='lower'` to inverse y axis\n",
    "- Plot 1D spectrum from a single frame of 2D spectrogram"
   ]
  },
  {
   "cell_type": "code",
   "execution_count": 44,
   "metadata": {
    "colab": {
     "base_uri": "https://localhost:8080/",
     "height": 283
    },
    "executionInfo": {
     "elapsed": 994,
     "status": "ok",
     "timestamp": 1632721651379,
     "user": {
      "displayName": "Dasaem Jeong",
      "photoUrl": "https://lh3.googleusercontent.com/a/default-user=s64",
      "userId": "01523425832319295790"
     },
     "user_tz": -540
    },
    "id": "9CK0LeAqw3r3",
    "outputId": "11ee2485-3a1d-426f-adf0-6a93ee161a36"
   },
   "outputs": [
    {
     "data": {
      "text/plain": [
       "<matplotlib.image.AxesImage at 0x7f37d7934d50>"
      ]
     },
     "execution_count": 44,
     "metadata": {},
     "output_type": "execute_result"
    },
    {
     "data": {
      "image/png": "[encoded data removed]",
      "text/plain": [
       "<Figure size 432x288 with 2 Axes>"
      ]
     },
     "metadata": {
      "needs_background": "light"
     },
     "output_type": "display_data"
    }
   ],
   "source": [
    "plt.subplot(1,2,1)\n",
    "plt.imshow(spec_a[0], origin='below', aspect='auto', interpolation='nearest')\n",
    "plt.subplot(1,2,2)\n",
    "plt.imshow(spec_b[0], origin='below', aspect='auto', interpolation='nearest')"
   ]
  },
  {
   "cell_type": "code",
   "execution_count": 76,
   "metadata": {
    "colab": {
     "base_uri": "https://localhost:8080/",
     "height": 283
    },
    "executionInfo": {
     "elapsed": 593,
     "status": "ok",
     "timestamp": 1632725073700,
     "user": {
      "displayName": "Dasaem Jeong",
      "photoUrl": "https://lh3.googleusercontent.com/a/default-user=s64",
      "userId": "01523425832319295790"
     },
     "user_tz": -540
    },
    "id": "6_UlTfo4yWgo",
    "outputId": "4c05da0a-aaf7-4d6f-eb6e-fdd0e89ec726"
   },
   "outputs": [
    {
     "data": {
      "text/plain": [
       "[<matplotlib.lines.Line2D at 0x7f37d7521110>]"
      ]
     },
     "execution_count": 76,
     "metadata": {},
     "output_type": "execute_result"
    },
    {
     "data": {
      "image/png": "[encoded data removed]",
      "text/plain": [
       "<Figure size 432x288 with 1 Axes>"
      ]
     },
     "metadata": {
      "needs_background": "light"
     },
     "output_type": "display_data"
    }
   ],
   "source": [
    "# spec_a의 차원축: 데이터샘플 x 주파수 축 x 시간 축\n",
    "plt.plot(spec_a[0, :, 20])\n",
    "# plt.plot(spec_b[0, :, 5])"
   ]
  },
  {
   "cell_type": "code",
   "execution_count": 36,
   "metadata": {
    "colab": {
     "base_uri": "https://localhost:8080/"
    },
    "executionInfo": {
     "elapsed": 287,
     "status": "ok",
     "timestamp": 1632721477766,
     "user": {
      "displayName": "Dasaem Jeong",
      "photoUrl": "https://lh3.googleusercontent.com/a/default-user=s64",
      "userId": "01523425832319295790"
     },
     "user_tz": -540
    },
    "id": "DrPIrZ_Txl5G",
    "outputId": "2bf7cd2f-de96-4fc2-d963-6e579f6cb96e"
   },
   "outputs": [
    {
     "data": {
      "text/plain": [
       "(tensor(17.7162), tensor(14.3701))"
      ]
     },
     "execution_count": 36,
     "metadata": {},
     "output_type": "execute_result"
    }
   ],
   "source": [
    "data_sample = spec_a[0]\n",
    "torch.max(data_sample), torch.median(data_sample)"
   ]
  },
  {
   "cell_type": "markdown",
   "metadata": {
    "id": "5X8ZCkoK6ie6"
   },
   "source": [
    "### Shuffle dataset"
   ]
  },
  {
   "cell_type": "code",
   "execution_count": 57,
   "metadata": {
    "executionInfo": {
     "elapsed": 303,
     "status": "ok",
     "timestamp": 1632723740600,
     "user": {
      "displayName": "Dasaem Jeong",
      "photoUrl": "https://lh3.googleusercontent.com/a/default-user=s64",
      "userId": "01523425832319295790"
     },
     "user_tz": -540
    },
    "id": "59W0hAYp6iNt"
   },
   "outputs": [],
   "source": [
    "rand_ids = torch.randperm(dataset.shape[0])"
   ]
  },
  {
   "cell_type": "code",
   "execution_count": 61,
   "metadata": {
    "colab": {
     "base_uri": "https://localhost:8080/"
    },
    "executionInfo": {
     "elapsed": 300,
     "status": "ok",
     "timestamp": 1632723770777,
     "user": {
      "displayName": "Dasaem Jeong",
      "photoUrl": "https://lh3.googleusercontent.com/a/default-user=s64",
      "userId": "01523425832319295790"
     },
     "user_tz": -540
    },
    "id": "vhlAOM4d64zP",
    "outputId": "08d7703f-f601-447f-e92e-7c1bc8194786"
   },
   "outputs": [
    {
     "data": {
      "text/plain": [
       "tensor([1181,  930, 1041,  288,  559, 1004, 1104, 1053,  327,  850])"
      ]
     },
     "execution_count": 61,
     "metadata": {},
     "output_type": "execute_result"
    }
   ],
   "source": [
    "rand_ids[:10]"
   ]
  },
  {
   "cell_type": "code",
   "execution_count": 72,
   "metadata": {
    "executionInfo": {
     "elapsed": 301,
     "status": "ok",
     "timestamp": 1632724101670,
     "user": {
      "displayName": "Dasaem Jeong",
      "photoUrl": "https://lh3.googleusercontent.com/a/default-user=s64",
      "userId": "01523425832319295790"
     },
     "user_tz": -540
    },
    "id": "rgTtWw796zM8"
   },
   "outputs": [],
   "source": [
    "spec_a = spec_a[rand_ids]\n",
    "pitches = pitches[rand_ids]"
   ]
  },
  {
   "cell_type": "markdown",
   "metadata": {
    "id": "8imFt429AVHz"
   },
   "source": [
    "### 1.3 Split Dataset\n",
    "- Training set: Dataset to train model parameters\n",
    "- Test set: Dataset to test how the trained model works with unseen data"
   ]
  },
  {
   "cell_type": "code",
   "execution_count": 73,
   "metadata": {
    "executionInfo": {
     "elapsed": 287,
     "status": "ok",
     "timestamp": 1632724120810,
     "user": {
      "displayName": "Dasaem Jeong",
      "photoUrl": "https://lh3.googleusercontent.com/a/default-user=s64",
      "userId": "01523425832319295790"
     },
     "user_tz": -540
    },
    "id": "C2r49OYp6AC3"
   },
   "outputs": [],
   "source": [
    "train_ratio = 0.8\n",
    "slice_idx = int(len(dataset) * 0.8)  #len(dataset) == dataset.shape[0]\n",
    "train_set = spec_a[:slice_idx]\n",
    "test_set = spec_a[slice_idx:]\n",
    "train_label = pitches[:slice_idx]\n",
    "test_label = pitches[slice_idx:]"
   ]
  },
  {
   "cell_type": "code",
   "execution_count": 74,
   "metadata": {
    "colab": {
     "base_uri": "https://localhost:8080/"
    },
    "executionInfo": {
     "elapsed": 311,
     "status": "ok",
     "timestamp": 1632724169461,
     "user": {
      "displayName": "Dasaem Jeong",
      "photoUrl": "https://lh3.googleusercontent.com/a/default-user=s64",
      "userId": "01523425832319295790"
     },
     "user_tz": -540
    },
    "id": "LF_GLOo471Ci",
    "outputId": "91976135-2206-4482-8e6f-45bd93de703e"
   },
   "outputs": [
    {
     "data": {
      "text/plain": [
       "torch.Size([240, 48, 23])"
      ]
     },
     "execution_count": 74,
     "metadata": {},
     "output_type": "execute_result"
    }
   ],
   "source": [
    "test_set.shape ## spectrogram datset의 shape: 데이터 샘플 X 주파수 X 시간"
   ]
  },
  {
   "cell_type": "code",
   "execution_count": 75,
   "metadata": {
    "colab": {
     "base_uri": "https://localhost:8080/",
     "height": 283
    },
    "executionInfo": {
     "elapsed": 318,
     "status": "ok",
     "timestamp": 1632724920777,
     "user": {
      "displayName": "Dasaem Jeong",
      "photoUrl": "https://lh3.googleusercontent.com/a/default-user=s64",
      "userId": "01523425832319295790"
     },
     "user_tz": -540
    },
    "id": "FEP0E91v_O4U",
    "outputId": "aafb6ce3-d6e9-4b45-e7aa-13ae6065a57d"
   },
   "outputs": [
    {
     "data": {
      "text/plain": [
       "<matplotlib.image.AxesImage at 0x7f37d766c9d0>"
      ]
     },
     "execution_count": 75,
     "metadata": {},
     "output_type": "execute_result"
    },
    {
     "data": {
      "image/png": "[encoded data removed]",
      "text/plain": [
       "<Figure size 432x288 with 1 Axes>"
      ]
     },
     "metadata": {
      "needs_background": "light"
     },
     "output_type": "display_data"
    }
   ],
   "source": [
    "plt.imshow(train_set[0], aspect='auto', origin='below')"
   ]
  },
  {
   "cell_type": "markdown",
   "metadata": {
    "id": "-J14Pk24HiDD"
   },
   "source": [
    "## 2. Make a Deep Neural Network Model\n",
    "- Start with a simple model\n",
    "- First Goal: make input and output right\n",
    "\n",
    "스펙트로그램을 입력으로 받아서 이 소리가 12개의 음계중 어떤 음에 해당하는지를 맞추는 모델\n",
    "\n",
    "분류 문제를 푸는 모델은, 각각의 클래스 (종류, 분류)에 해당하는 확률이 얼마인지를 반환하는 형태\n",
    "- 즉 클래스 종류 수 만큼의 숫자를 출력해야함\n",
    "  - 각 숫자는 해당 클래스의 확률을 의미함"
   ]
  },
  {
   "cell_type": "code",
   "execution_count": 78,
   "metadata": {
    "executionInfo": {
     "elapsed": 293,
     "status": "ok",
     "timestamp": 1632725228069,
     "user": {
      "displayName": "Dasaem Jeong",
      "photoUrl": "https://lh3.googleusercontent.com/a/default-user=s64",
      "userId": "01523425832319295790"
     },
     "user_tz": -540
    },
    "id": "g-IOWf9U8pHG"
   },
   "outputs": [],
   "source": [
    "class PitchClassifier(nn.Module):\n",
    "  def __init__(self):\n",
    "    super().__init__()\n",
    "    self.layer = nn.Linear(in_features=48, out_features=12)\n",
    "  \n",
    "  def forward(self, x):\n",
    "    return self.layer(x) ## == self.layer.forward(x)\n",
    "\n",
    "pitch_classifier = PitchClassifier()\n",
    "# pitch_classifier(train_set) == pitch_classifier.forward(train_set)"
   ]
  },
  {
   "cell_type": "markdown",
   "metadata": {
    "id": "MFK7ja3hP1Kv"
   },
   "source": [
    "### 2-1 Test that the model can process our input\n",
    "- Run with first 10 samples\n",
    "- Handle spectrogram\n",
    "  - Select only one frame\n",
    "  - Use mean of entire time\n",
    "  - Flatten every frame"
   ]
  },
  {
   "cell_type": "code",
   "execution_count": 80,
   "metadata": {
    "executionInfo": {
     "elapsed": 406,
     "status": "ok",
     "timestamp": 1632725300206,
     "user": {
      "displayName": "Dasaem Jeong",
      "photoUrl": "https://lh3.googleusercontent.com/a/default-user=s64",
      "userId": "01523425832319295790"
     },
     "user_tz": -540
    },
    "id": "AQRsW0I-AlQm"
   },
   "outputs": [],
   "source": [
    "# 한 시간 프레임만 잘라서 사용\n",
    "train_set = train_set[:,:,5] #5번째 시간 프레임의 값만 사용\n",
    "test_set = test_set[:,:,5]\n"
   ]
  },
  {
   "cell_type": "code",
   "execution_count": 85,
   "metadata": {
    "colab": {
     "base_uri": "https://localhost:8080/"
    },
    "executionInfo": {
     "elapsed": 296,
     "status": "ok",
     "timestamp": 1632725369348,
     "user": {
      "displayName": "Dasaem Jeong",
      "photoUrl": "https://lh3.googleusercontent.com/a/default-user=s64",
      "userId": "01523425832319295790"
     },
     "user_tz": -540
    },
    "id": "9tdQur2WA2Kd",
    "outputId": "479dd4b3-93c7-4eec-94c0-fac40792a76f"
   },
   "outputs": [
    {
     "data": {
      "text/plain": [
       "tensor([ 0.0522, -0.0028,  0.0873,  0.0281,  0.0681,  0.0249, -0.1212,  0.0061,\n",
       "         0.1170, -0.1158, -0.1401,  0.0439,  0.0101, -0.1333,  0.0455, -0.0662,\n",
       "         0.0579,  0.0201,  0.0165, -0.1382, -0.1339, -0.0938, -0.1062, -0.0410,\n",
       "        -0.0120, -0.0515, -0.0719, -0.0142, -0.0330, -0.0061, -0.0317, -0.0083,\n",
       "        -0.0009, -0.0329, -0.0175, -0.0941,  0.0034,  0.1392, -0.0804,  0.0094,\n",
       "         0.0654,  0.0997, -0.0980,  0.0578,  0.0931,  0.1046, -0.1117, -0.0341],\n",
       "       grad_fn=<SelectBackward>)"
      ]
     },
     "execution_count": 85,
     "metadata": {},
     "output_type": "execute_result"
    }
   ],
   "source": [
    "# nn.module은 랜덤한 값으로 초기화\n",
    "pitch_classifier.layer.weight[0]"
   ]
  },
  {
   "cell_type": "code",
   "execution_count": 89,
   "metadata": {
    "executionInfo": {
     "elapsed": 317,
     "status": "ok",
     "timestamp": 1632725545492,
     "user": {
      "displayName": "Dasaem Jeong",
      "photoUrl": "https://lh3.googleusercontent.com/a/default-user=s64",
      "userId": "01523425832319295790"
     },
     "user_tz": -540
    },
    "id": "iUBDVIwyAevI"
   },
   "outputs": [],
   "source": [
    "test_output = pitch_classifier(train_set[:10])"
   ]
  },
  {
   "cell_type": "markdown",
   "metadata": {
    "id": "3SMS_cWDLsKB"
   },
   "source": []
  },
  {
   "cell_type": "markdown",
   "metadata": {
    "id": "VFGNbm50gA2U"
   },
   "source": [
    "### 2-2 Softmax\n",
    "- We want to select only one pitch class\n",
    "  - that has maximum probability\n",
    "- Softmax is a function that "
   ]
  },
  {
   "cell_type": "code",
   "execution_count": 90,
   "metadata": {
    "colab": {
     "base_uri": "https://localhost:8080/"
    },
    "executionInfo": {
     "elapsed": 304,
     "status": "ok",
     "timestamp": 1632725549559,
     "user": {
      "displayName": "Dasaem Jeong",
      "photoUrl": "https://lh3.googleusercontent.com/a/default-user=s64",
      "userId": "01523425832319295790"
     },
     "user_tz": -540
    },
    "id": "4YrGus18Bn5V",
    "outputId": "5318e718-c9d9-40db-fdf6-d6556e86e1f4"
   },
   "outputs": [
    {
     "data": {
      "text/plain": [
       "tensor([-9.4889, -0.9300,  2.6063, -1.4252,  6.4276, -3.3996, 10.6612, -2.4614,\n",
       "        -2.8710,  9.9234, -6.8480, -0.6869], grad_fn=<SelectBackward>)"
      ]
     },
     "execution_count": 90,
     "metadata": {},
     "output_type": "execute_result"
    }
   ],
   "source": [
    "test_output[0]"
   ]
  },
  {
   "cell_type": "code",
   "execution_count": 94,
   "metadata": {
    "colab": {
     "base_uri": "https://localhost:8080/"
    },
    "executionInfo": {
     "elapsed": 307,
     "status": "ok",
     "timestamp": 1632726111890,
     "user": {
      "displayName": "Dasaem Jeong",
      "photoUrl": "https://lh3.googleusercontent.com/a/default-user=s64",
      "userId": "01523425832319295790"
     },
     "user_tz": -540
    },
    "id": "ydXOCe_tCZ0F",
    "outputId": "d54dfe86-7636-45c3-db10-87a06e340771"
   },
   "outputs": [
    {
     "data": {
      "text/plain": [
       "tensor([[    0.0000,     0.0000,     0.0002,     0.0000,     0.0097,     0.0000,\n",
       "             0.6698,     0.0000,     0.0000,     0.3203,     0.0000,     0.0000],\n",
       "        [    0.0000,     0.0000,     0.0000,     0.0000,     1.0000,     0.0000,\n",
       "             0.0000,     0.0000,     0.0000,     0.0000,     0.0000,     0.0000],\n",
       "        [    0.0000,     0.0000,     0.0066,     0.0000,     0.0121,     0.0000,\n",
       "             0.0000,     0.9812,     0.0000,     0.0000,     0.0000,     0.0000],\n",
       "        [    0.0000,     0.0000,     0.0000,     0.0000,     0.8815,     0.0000,\n",
       "             0.0000,     0.0000,     0.0000,     0.1185,     0.0000,     0.0000],\n",
       "        [    0.0000,     0.0000,     0.0000,     0.0000,     0.1051,     0.0000,\n",
       "             0.0000,     0.0000,     0.0000,     0.8948,     0.0000,     0.0001],\n",
       "        [    0.0000,     0.0000,     0.0000,     0.0000,     0.9998,     0.0000,\n",
       "             0.0000,     0.0000,     0.0000,     0.0002,     0.0000,     0.0000],\n",
       "        [    0.0000,     0.0000,     0.0000,     0.0000,     0.0000,     0.0000,\n",
       "             0.1482,     0.0000,     0.0000,     0.8517,     0.0000,     0.0000],\n",
       "        [    0.0000,     0.0000,     0.0000,     0.0000,     0.9997,     0.0000,\n",
       "             0.0000,     0.0001,     0.0000,     0.0002,     0.0000,     0.0000],\n",
       "        [    0.0000,     0.0001,     0.0000,     0.0000,     0.2261,     0.0000,\n",
       "             0.0000,     0.0000,     0.0000,     0.7738,     0.0000,     0.0000],\n",
       "        [    0.0000,     0.0000,     0.0000,     0.0000,     1.0000,     0.0000,\n",
       "             0.0000,     0.0000,     0.0000,     0.0000,     0.0000,     0.0000]],\n",
       "       grad_fn=<SoftmaxBackward>)"
      ]
     },
     "execution_count": 94,
     "metadata": {},
     "output_type": "execute_result"
    }
   ],
   "source": [
    "def softmax(x, dim):\n",
    "  exp_v = torch.exp(x)\n",
    "  sum_v = torch.sum(exp_v, dim=dim, keepdim=True)\n",
    "  return exp_v / sum_v"
   ]
  },
  {
   "cell_type": "markdown",
   "metadata": {
    "id": "48l1IwZzgNTZ"
   },
   "source": [
    "### 2-3 Loss\n",
    "- Loss has to be zero if the prediction is perfect\n",
    "- Loss has to be increased if the prediction gets worse\n",
    "  - In pitch classification, we have only one correct class among 12 classes\n",
    "    - Negative Log Likelihood with softmax"
   ]
  },
  {
   "cell_type": "code",
   "execution_count": 95,
   "metadata": {
    "colab": {
     "base_uri": "https://localhost:8080/"
    },
    "executionInfo": {
     "elapsed": 379,
     "status": "ok",
     "timestamp": 1632726414123,
     "user": {
      "displayName": "Dasaem Jeong",
      "photoUrl": "https://lh3.googleusercontent.com/a/default-user=s64",
      "userId": "01523425832319295790"
     },
     "user_tz": -540
    },
    "id": "GYZEXDqSE9wq",
    "outputId": "8b54336d-7b5d-44fb-edaf-ffb4e949a7eb"
   },
   "outputs": [
    {
     "data": {
      "text/plain": [
       "tensor([11,  9, 10,  2,  5, 10, 11, 10,  3,  8])"
      ]
     },
     "execution_count": 95,
     "metadata": {},
     "output_type": "execute_result"
    }
   ],
   "source": [
    "train_label[:10]"
   ]
  },
  {
   "cell_type": "code",
   "execution_count": 96,
   "metadata": {
    "colab": {
     "base_uri": "https://localhost:8080/"
    },
    "executionInfo": {
     "elapsed": 293,
     "status": "ok",
     "timestamp": 1632726453633,
     "user": {
      "displayName": "Dasaem Jeong",
      "photoUrl": "https://lh3.googleusercontent.com/a/default-user=s64",
      "userId": "01523425832319295790"
     },
     "user_tz": -540
    },
    "id": "dMUvigzjFHDh",
    "outputId": "c829de89-2361-4ba7-e32e-8d1720511fa3"
   },
   "outputs": [
    {
     "data": {
      "text/plain": [
       "tensor([ 0,  1,  2,  3,  4,  5,  6,  7,  8,  9, 10, 11, 12, 13, 14, 15, 16, 17,\n",
       "        18, 19])"
      ]
     },
     "execution_count": 96,
     "metadata": {},
     "output_type": "execute_result"
    }
   ],
   "source": [
    "torch.arange(20)"
   ]
  },
  {
   "cell_type": "code",
   "execution_count": 100,
   "metadata": {
    "executionInfo": {
     "elapsed": 301,
     "status": "ok",
     "timestamp": 1632726599551,
     "user": {
      "displayName": "Dasaem Jeong",
      "photoUrl": "https://lh3.googleusercontent.com/a/default-user=s64",
      "userId": "01523425832319295790"
     },
     "user_tz": -540
    },
    "id": "5Em7toj9D8qo"
   },
   "outputs": [],
   "source": [
    "def get_nll_loss(pred, target):\n",
    "  # prediction은 softmax 결과값\n",
    "  prediction_for_target_class = pred[torch.arange(len(pred)), target]\n",
    "  return torch.mean(-torch.log(prediction_for_target_class))\n",
    "\n",
    "loss = get_nll_loss(softmax(test_output, -1), train_label[:10])"
   ]
  },
  {
   "cell_type": "markdown",
   "metadata": {
    "id": "563N4gkSEPgr"
   },
   "source": [
    "#### Backpropagation\n",
    "- `loss.backward()` do backpropagation in `torch`\n",
    "- The gradient of every parameters that was included in loss calculation will be calculated"
   ]
  },
  {
   "cell_type": "code",
   "execution_count": 101,
   "metadata": {
    "executionInfo": {
     "elapsed": 368,
     "status": "ok",
     "timestamp": 1632726623142,
     "user": {
      "displayName": "Dasaem Jeong",
      "photoUrl": "https://lh3.googleusercontent.com/a/default-user=s64",
      "userId": "01523425832319295790"
     },
     "user_tz": -540
    },
    "id": "Xs21CKlaFt62"
   },
   "outputs": [],
   "source": [
    "pitch_classifier.layer.weight.grad"
   ]
  },
  {
   "cell_type": "code",
   "execution_count": 102,
   "metadata": {
    "executionInfo": {
     "elapsed": 284,
     "status": "ok",
     "timestamp": 1632726628031,
     "user": {
      "displayName": "Dasaem Jeong",
      "photoUrl": "https://lh3.googleusercontent.com/a/default-user=s64",
      "userId": "01523425832319295790"
     },
     "user_tz": -540
    },
    "id": "loVhUbBqEdA3"
   },
   "outputs": [],
   "source": [
    "loss.backward()"
   ]
  },
  {
   "cell_type": "code",
   "execution_count": null,
   "metadata": {
    "id": "jHVafnYEFz0N"
   },
   "outputs": [],
   "source": [
    "pitch_classifier.layer.weight.grad"
   ]
  },
  {
   "cell_type": "markdown",
   "metadata": {
    "id": "-h7SLTpCjQ2g"
   },
   "source": [
    "### 2-4 Optimizer\n",
    "- Optimizer helps to update neural network parameters\n",
    "- There are various types of optimizers\n",
    "- Most usual choice would be Adam\n",
    "<img src=https://github.com/Jaewan-Yun/optimizer-visualization/raw/master/figures/movie9.gif>"
   ]
  },
  {
   "cell_type": "code",
   "execution_count": 104,
   "metadata": {
    "executionInfo": {
     "elapsed": 336,
     "status": "ok",
     "timestamp": 1632726743794,
     "user": {
      "displayName": "Dasaem Jeong",
      "photoUrl": "https://lh3.googleusercontent.com/a/default-user=s64",
      "userId": "01523425832319295790"
     },
     "user_tz": -540
    },
    "id": "6yXbV88DeFNM"
   },
   "outputs": [],
   "source": [
    "optimizer = torch.optim.Adam(pitch_classifier.parameters(), lr=0.001)"
   ]
  },
  {
   "cell_type": "markdown",
   "metadata": {
    "id": "SVsd6IuIumIG"
   },
   "source": [
    "#### Check optimizer works"
   ]
  },
  {
   "cell_type": "code",
   "execution_count": 106,
   "metadata": {
    "colab": {
     "base_uri": "https://localhost:8080/"
    },
    "executionInfo": {
     "elapsed": 308,
     "status": "ok",
     "timestamp": 1632726780557,
     "user": {
      "displayName": "Dasaem Jeong",
      "photoUrl": "https://lh3.googleusercontent.com/a/default-user=s64",
      "userId": "01523425832319295790"
     },
     "user_tz": -540
    },
    "id": "dBHjjTL1GUis",
    "outputId": "2df3fa0d-7f95-4398-a841-9757d6f66cbc"
   },
   "outputs": [
    {
     "data": {
      "text/plain": [
       "tensor([ 0.0522, -0.0028,  0.0873,  0.0281,  0.0681,  0.0249, -0.1212,  0.0061,\n",
       "         0.1170, -0.1158, -0.1401,  0.0439,  0.0101, -0.1333,  0.0455, -0.0662,\n",
       "         0.0579,  0.0201,  0.0165, -0.1382, -0.1339, -0.0938, -0.1062, -0.0410,\n",
       "        -0.0120, -0.0515, -0.0719, -0.0142, -0.0330, -0.0061, -0.0317, -0.0083,\n",
       "        -0.0009, -0.0329, -0.0175, -0.0941,  0.0034,  0.1392, -0.0804,  0.0094,\n",
       "         0.0654,  0.0997, -0.0980,  0.0578,  0.0931,  0.1046, -0.1117, -0.0341],\n",
       "       grad_fn=<SelectBackward>)"
      ]
     },
     "execution_count": 106,
     "metadata": {},
     "output_type": "execute_result"
    }
   ],
   "source": [
    "pitch_classifier.layer.weight[0]"
   ]
  },
  {
   "cell_type": "code",
   "execution_count": 107,
   "metadata": {
    "executionInfo": {
     "elapsed": 297,
     "status": "ok",
     "timestamp": 1632726796985,
     "user": {
      "displayName": "Dasaem Jeong",
      "photoUrl": "https://lh3.googleusercontent.com/a/default-user=s64",
      "userId": "01523425832319295790"
     },
     "user_tz": -540
    },
    "id": "FWEY449FGahP"
   },
   "outputs": [],
   "source": [
    "optimizer.step()"
   ]
  },
  {
   "cell_type": "code",
   "execution_count": 108,
   "metadata": {
    "colab": {
     "base_uri": "https://localhost:8080/"
    },
    "executionInfo": {
     "elapsed": 290,
     "status": "ok",
     "timestamp": 1632726805351,
     "user": {
      "displayName": "Dasaem Jeong",
      "photoUrl": "https://lh3.googleusercontent.com/a/default-user=s64",
      "userId": "01523425832319295790"
     },
     "user_tz": -540
    },
    "id": "OwXITTmVGdM1",
    "outputId": "d07ba3aa-b5fc-4463-b2da-38146dad086e"
   },
   "outputs": [
    {
     "data": {
      "text/plain": [
       "tensor([ 0.0513, -0.0037,  0.0864,  0.0273,  0.0672,  0.0240, -0.1222,  0.0051,\n",
       "         0.1160, -0.1167, -0.1410,  0.0430,  0.0093, -0.1343,  0.0446, -0.0671,\n",
       "         0.0569,  0.0191,  0.0156, -0.1392, -0.1348, -0.0947, -0.1072, -0.0419,\n",
       "        -0.0129, -0.0524, -0.0729, -0.0151, -0.0340, -0.0071, -0.0326, -0.0093,\n",
       "        -0.0019, -0.0339, -0.0184, -0.0950,  0.0024,  0.1382, -0.0813,  0.0085,\n",
       "         0.0645,  0.0987, -0.0989,  0.0568,  0.0922,  0.1036, -0.1126, -0.0350],\n",
       "       grad_fn=<SelectBackward>)"
      ]
     },
     "execution_count": 108,
     "metadata": {},
     "output_type": "execute_result"
    }
   ],
   "source": [
    "pitch_classifier.layer.weight[0]"
   ]
  },
  {
   "cell_type": "code",
   "execution_count": 109,
   "metadata": {
    "colab": {
     "base_uri": "https://localhost:8080/"
    },
    "executionInfo": {
     "elapsed": 286,
     "status": "ok",
     "timestamp": 1632726850543,
     "user": {
      "displayName": "Dasaem Jeong",
      "photoUrl": "https://lh3.googleusercontent.com/a/default-user=s64",
      "userId": "01523425832319295790"
     },
     "user_tz": -540
    },
    "id": "o3aECHEHGgiH",
    "outputId": "ed80bca4-a759-4ce6-c846-d8621b8260eb"
   },
   "outputs": [
    {
     "name": "stdout",
     "output_type": "stream",
     "text": [
      "tensor(16.4165, grad_fn=<MeanBackward0>)\n"
     ]
    }
   ],
   "source": [
    "test_output = pitch_classifier(train_set[:10])\n",
    "loss = get_nll_loss(softmax(test_output, dim=-1), train_label[:10])\n",
    "print(loss)"
   ]
  },
  {
   "cell_type": "markdown",
   "metadata": {
    "id": "fWrCHEp6ugci"
   },
   "source": [
    "### 2-5 Make iteration loop"
   ]
  },
  {
   "cell_type": "code",
   "execution_count": 110,
   "metadata": {
    "colab": {
     "base_uri": "https://localhost:8080/",
     "height": 283
    },
    "executionInfo": {
     "elapsed": 805,
     "status": "ok",
     "timestamp": 1632726968628,
     "user": {
      "displayName": "Dasaem Jeong",
      "photoUrl": "https://lh3.googleusercontent.com/a/default-user=s64",
      "userId": "01523425832319295790"
     },
     "user_tz": -540
    },
    "id": "uaH3Q9-1Gsv2",
    "outputId": "a7e3d79f-fc69-442e-d11a-2a8c27c1e5b4"
   },
   "outputs": [
    {
     "data": {
      "text/plain": [
       "[<matplotlib.lines.Line2D at 0x7f37d7499d90>]"
      ]
     },
     "execution_count": 110,
     "metadata": {},
     "output_type": "execute_result"
    },
    {
     "data": {
      "image/png": "[encoded data removed]",
      "text/plain": [
       "<Figure size 432x288 with 1 Axes>"
      ]
     },
     "metadata": {
      "needs_background": "light"
     },
     "output_type": "display_data"
    }
   ],
   "source": [
    "loss_tracker  = []\n",
    "\n",
    "for i in range(300):\n",
    "  optimizer.zero_grad()\n",
    "  pred = pitch_classifier(train_set)\n",
    "  pred = softmax(pred, dim=-1)\n",
    "  loss = get_nll_loss(pred, train_label)\n",
    "  loss.backward()\n",
    "  optimizer.step()\n",
    "  loss_tracker.append(loss.item())\n",
    "\n",
    "plt.plot(loss_tracker)\n"
   ]
  },
  {
   "cell_type": "markdown",
   "metadata": {
    "id": "GNI99VhtjPIs"
   },
   "source": [
    "### 2-6 Test the result\n",
    "- `with torcn.no_grad():` makes following codes runs without tracking gradient"
   ]
  },
  {
   "cell_type": "markdown",
   "metadata": {
    "id": "lPhM0U58OeB9"
   },
   "source": [
    "## Pitch Regression"
   ]
  },
  {
   "cell_type": "markdown",
   "metadata": {
    "id": "bC2XuPDAOd_W"
   },
   "source": []
  },
  {
   "cell_type": "code",
   "execution_count": null,
   "metadata": {
    "id": "NygA1fwUOYF-"
   },
   "outputs": [],
   "source": []
  },
  {
   "cell_type": "markdown",
   "metadata": {
    "id": "iv_vfxR4NQHM"
   },
   "source": [
    "## 2. Make torch Dataset"
   ]
  },
  {
   "cell_type": "code",
   "execution_count": null,
   "metadata": {
    "id": "wEYQ8RX3O9nl"
   },
   "outputs": [],
   "source": []
  }
 ],
 "metadata": {
  "colab": {
   "authorship_tag": "ABX9TyN763dUdehvfnQqJOhUF7ea",
   "collapsed_sections": [],
   "name": "Creative Technologies 4th week_livecoding.ipynb",
   "provenance": [
    {
     "file_id": "1n03rVU4X710Th5cuJIf6B06Yx7xFzR6R",
     "timestamp": 1632716979438
    }
   ]
  },
  "kernelspec": {
   "display_name": "Python 3 (ipykernel)",
   "language": "python",
   "name": "python3"
  },
  "language_info": {
   "codemirror_mode": {
    "name": "ipython",
    "version": 3
   },
   "file_extension": ".py",
   "mimetype": "text/x-python",
   "name": "python",
   "nbconvert_exporter": "python",
   "pygments_lexer": "ipython3",
   "version": "3.8.10"
  }
 },
 "nbformat": 4,
 "nbformat_minor": 1
}
